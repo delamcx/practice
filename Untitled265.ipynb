{
  "nbformat": 4,
  "nbformat_minor": 0,
  "metadata": {
    "colab": {
      "provenance": [],
      "include_colab_link": true
    },
    "kernelspec": {
      "name": "python3",
      "display_name": "Python 3"
    },
    "language_info": {
      "name": "python"
    }
  },
  "cells": [
    {
      "cell_type": "markdown",
      "metadata": {
        "id": "view-in-github",
        "colab_type": "text"
      },
      "source": [
        "<a href=\"https://colab.research.google.com/github/delamcx/practice/blob/main/Untitled265.ipynb\" target=\"_parent\"><img src=\"https://colab.research.google.com/assets/colab-badge.svg\" alt=\"Open In Colab\"/></a>"
      ]
    },
    {
      "cell_type": "code",
      "execution_count": null,
      "metadata": {
        "colab": {
          "base_uri": "https://localhost:8080/"
        },
        "id": "T8KqSJlefYpZ",
        "outputId": "6dde2d69-9bbc-40d2-8776-67628ba7d45c"
      },
      "outputs": [
        {
          "output_type": "execute_result",
          "data": {
            "text/plain": [
              "['scaler.pkl']"
            ]
          },
          "metadata": {},
          "execution_count": 1
        }
      ],
      "source": [
        "# Import necessary libraries\n",
        "import pandas as pd\n",
        "import numpy as np\n",
        "from sklearn.model_selection import train_test_split\n",
        "from sklearn.preprocessing import StandardScaler\n",
        "from sklearn.linear_model import LogisticRegression\n",
        "import joblib\n",
        "\n",
        "# Load the dataset from UCI repository\n",
        "url = 'https://archive.ics.uci.edu/ml/machine-learning-databases/breast-cancer-wisconsin/wdbc.data'\n",
        "columns = ['ID', 'Diagnosis'] + [f'feature_{i}' for i in range(1, 31)]\n",
        "data = pd.read_csv(url, header=None, names=columns)\n",
        "\n",
        "# Preprocess the dataset\n",
        "X = data.drop(['ID', 'Diagnosis'], axis=1)\n",
        "y = data['Diagnosis'].map({'M': 1, 'B': 0})  # Map 'M' to 1 and 'B' to 0 for binary classification\n",
        "\n",
        "# Split the data\n",
        "X_train, X_test, y_train, y_test = train_test_split(X, y, test_size=0.2, random_state=42)\n",
        "\n",
        "# Create a StandardScaler instance and scale the data\n",
        "scaler = StandardScaler()\n",
        "X_train_scaled = scaler.fit_transform(X_train)\n",
        "X_test_scaled = scaler.transform(X_test)\n",
        "\n",
        "# Train a logistic regression model\n",
        "model = LogisticRegression()\n",
        "model.fit(X_train_scaled, y_train)\n",
        "\n",
        "# Save the model and scaler\n",
        "joblib.dump(model, 'model.pkl')\n",
        "joblib.dump(scaler, 'scaler.pkl')"
      ]
    },
    {
      "cell_type": "code",
      "source": [
        "# Function for making predictions\n",
        "def predict_new_data(features):\n",
        "    # Load the model and scaler\n",
        "    model = joblib.load('model.pkl')\n",
        "    scaler = joblib.load('scaler.pkl')\n",
        "\n",
        "    # Scale the input features\n",
        "    features_scaled = scaler.transform(np.array(features).reshape(1, -1))\n",
        "\n",
        "    # However you treated your data when you trained the model - that would need to go here also!!!!\n",
        "\n",
        "    # Make a prediction\n",
        "    prediction = model.predict(features_scaled)\n",
        "    probability = model.predict_proba(features_scaled)[0, 1]\n",
        "    return ('Positive' if prediction[0] == 1 else 'Negative', probability)"
      ],
      "metadata": {
        "id": "J-ZsSXe7fmuk"
      },
      "execution_count": null,
      "outputs": []
    },
    {
      "cell_type": "code",
      "source": [
        "# Test the function with sample data\n",
        "sample_features = X_test.iloc[0].tolist()\n",
        "prediction, probability = predict_new_data(sample_features)\n",
        "print(f\"Prediction: {prediction}, Probability: {probability:.2f}\")"
      ],
      "metadata": {
        "colab": {
          "base_uri": "https://localhost:8080/"
        },
        "id": "K7OXifh0f7IQ",
        "outputId": "eacb8894-44de-481e-ee22-8418bbec7579"
      },
      "execution_count": null,
      "outputs": [
        {
          "output_type": "stream",
          "name": "stdout",
          "text": [
            "Prediction: Negative, Probability: 0.11\n"
          ]
        },
        {
          "output_type": "stream",
          "name": "stderr",
          "text": [
            "/usr/local/lib/python3.10/dist-packages/sklearn/base.py:493: UserWarning: X does not have valid feature names, but StandardScaler was fitted with feature names\n",
            "  warnings.warn(\n"
          ]
        }
      ]
    }
  ]
}